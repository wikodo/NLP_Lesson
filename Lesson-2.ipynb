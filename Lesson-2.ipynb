{
 "cells": [
  {
   "cell_type": "code",
   "execution_count": 18,
   "metadata": {},
   "outputs": [],
   "source": [
    "from bs4 import BeautifulSoup\n",
    "from collections import defaultdict\n",
    "from sklearn.datasets import load_boston\n",
    "import math\n",
    "import matplotlib.pyplot as plt\n",
    "import networkx as nx\n",
    "import random\n",
    "import re\n",
    "import requests\n",
    "\n",
    "%matplotlib inline"
   ]
  },
  {
   "cell_type": "code",
   "execution_count": 19,
   "metadata": {},
   "outputs": [],
   "source": [
    "data = load_boston()"
   ]
  },
  {
   "cell_type": "code",
   "execution_count": 20,
   "metadata": {},
   "outputs": [
    {
     "data": {
      "text/plain": [
       "{'data': array([[6.3200e-03, 1.8000e+01, 2.3100e+00, ..., 1.5300e+01, 3.9690e+02,\n",
       "         4.9800e+00],\n",
       "        [2.7310e-02, 0.0000e+00, 7.0700e+00, ..., 1.7800e+01, 3.9690e+02,\n",
       "         9.1400e+00],\n",
       "        [2.7290e-02, 0.0000e+00, 7.0700e+00, ..., 1.7800e+01, 3.9283e+02,\n",
       "         4.0300e+00],\n",
       "        ...,\n",
       "        [6.0760e-02, 0.0000e+00, 1.1930e+01, ..., 2.1000e+01, 3.9690e+02,\n",
       "         5.6400e+00],\n",
       "        [1.0959e-01, 0.0000e+00, 1.1930e+01, ..., 2.1000e+01, 3.9345e+02,\n",
       "         6.4800e+00],\n",
       "        [4.7410e-02, 0.0000e+00, 1.1930e+01, ..., 2.1000e+01, 3.9690e+02,\n",
       "         7.8800e+00]]),\n",
       " 'target': array([24. , 21.6, 34.7, 33.4, 36.2, 28.7, 22.9, 27.1, 16.5, 18.9, 15. ,\n",
       "        18.9, 21.7, 20.4, 18.2, 19.9, 23.1, 17.5, 20.2, 18.2, 13.6, 19.6,\n",
       "        15.2, 14.5, 15.6, 13.9, 16.6, 14.8, 18.4, 21. , 12.7, 14.5, 13.2,\n",
       "        13.1, 13.5, 18.9, 20. , 21. , 24.7, 30.8, 34.9, 26.6, 25.3, 24.7,\n",
       "        21.2, 19.3, 20. , 16.6, 14.4, 19.4, 19.7, 20.5, 25. , 23.4, 18.9,\n",
       "        35.4, 24.7, 31.6, 23.3, 19.6, 18.7, 16. , 22.2, 25. , 33. , 23.5,\n",
       "        19.4, 22. , 17.4, 20.9, 24.2, 21.7, 22.8, 23.4, 24.1, 21.4, 20. ,\n",
       "        20.8, 21.2, 20.3, 28. , 23.9, 24.8, 22.9, 23.9, 26.6, 22.5, 22.2,\n",
       "        23.6, 28.7, 22.6, 22. , 22.9, 25. , 20.6, 28.4, 21.4, 38.7, 43.8,\n",
       "        33.2, 27.5, 26.5, 18.6, 19.3, 20.1, 19.5, 19.5, 20.4, 19.8, 19.4,\n",
       "        21.7, 22.8, 18.8, 18.7, 18.5, 18.3, 21.2, 19.2, 20.4, 19.3, 22. ,\n",
       "        20.3, 20.5, 17.3, 18.8, 21.4, 15.7, 16.2, 18. , 14.3, 19.2, 19.6,\n",
       "        23. , 18.4, 15.6, 18.1, 17.4, 17.1, 13.3, 17.8, 14. , 14.4, 13.4,\n",
       "        15.6, 11.8, 13.8, 15.6, 14.6, 17.8, 15.4, 21.5, 19.6, 15.3, 19.4,\n",
       "        17. , 15.6, 13.1, 41.3, 24.3, 23.3, 27. , 50. , 50. , 50. , 22.7,\n",
       "        25. , 50. , 23.8, 23.8, 22.3, 17.4, 19.1, 23.1, 23.6, 22.6, 29.4,\n",
       "        23.2, 24.6, 29.9, 37.2, 39.8, 36.2, 37.9, 32.5, 26.4, 29.6, 50. ,\n",
       "        32. , 29.8, 34.9, 37. , 30.5, 36.4, 31.1, 29.1, 50. , 33.3, 30.3,\n",
       "        34.6, 34.9, 32.9, 24.1, 42.3, 48.5, 50. , 22.6, 24.4, 22.5, 24.4,\n",
       "        20. , 21.7, 19.3, 22.4, 28.1, 23.7, 25. , 23.3, 28.7, 21.5, 23. ,\n",
       "        26.7, 21.7, 27.5, 30.1, 44.8, 50. , 37.6, 31.6, 46.7, 31.5, 24.3,\n",
       "        31.7, 41.7, 48.3, 29. , 24. , 25.1, 31.5, 23.7, 23.3, 22. , 20.1,\n",
       "        22.2, 23.7, 17.6, 18.5, 24.3, 20.5, 24.5, 26.2, 24.4, 24.8, 29.6,\n",
       "        42.8, 21.9, 20.9, 44. , 50. , 36. , 30.1, 33.8, 43.1, 48.8, 31. ,\n",
       "        36.5, 22.8, 30.7, 50. , 43.5, 20.7, 21.1, 25.2, 24.4, 35.2, 32.4,\n",
       "        32. , 33.2, 33.1, 29.1, 35.1, 45.4, 35.4, 46. , 50. , 32.2, 22. ,\n",
       "        20.1, 23.2, 22.3, 24.8, 28.5, 37.3, 27.9, 23.9, 21.7, 28.6, 27.1,\n",
       "        20.3, 22.5, 29. , 24.8, 22. , 26.4, 33.1, 36.1, 28.4, 33.4, 28.2,\n",
       "        22.8, 20.3, 16.1, 22.1, 19.4, 21.6, 23.8, 16.2, 17.8, 19.8, 23.1,\n",
       "        21. , 23.8, 23.1, 20.4, 18.5, 25. , 24.6, 23. , 22.2, 19.3, 22.6,\n",
       "        19.8, 17.1, 19.4, 22.2, 20.7, 21.1, 19.5, 18.5, 20.6, 19. , 18.7,\n",
       "        32.7, 16.5, 23.9, 31.2, 17.5, 17.2, 23.1, 24.5, 26.6, 22.9, 24.1,\n",
       "        18.6, 30.1, 18.2, 20.6, 17.8, 21.7, 22.7, 22.6, 25. , 19.9, 20.8,\n",
       "        16.8, 21.9, 27.5, 21.9, 23.1, 50. , 50. , 50. , 50. , 50. , 13.8,\n",
       "        13.8, 15. , 13.9, 13.3, 13.1, 10.2, 10.4, 10.9, 11.3, 12.3,  8.8,\n",
       "         7.2, 10.5,  7.4, 10.2, 11.5, 15.1, 23.2,  9.7, 13.8, 12.7, 13.1,\n",
       "        12.5,  8.5,  5. ,  6.3,  5.6,  7.2, 12.1,  8.3,  8.5,  5. , 11.9,\n",
       "        27.9, 17.2, 27.5, 15. , 17.2, 17.9, 16.3,  7. ,  7.2,  7.5, 10.4,\n",
       "         8.8,  8.4, 16.7, 14.2, 20.8, 13.4, 11.7,  8.3, 10.2, 10.9, 11. ,\n",
       "         9.5, 14.5, 14.1, 16.1, 14.3, 11.7, 13.4,  9.6,  8.7,  8.4, 12.8,\n",
       "        10.5, 17.1, 18.4, 15.4, 10.8, 11.8, 14.9, 12.6, 14.1, 13. , 13.4,\n",
       "        15.2, 16.1, 17.8, 14.9, 14.1, 12.7, 13.5, 14.9, 20. , 16.4, 17.7,\n",
       "        19.5, 20.2, 21.4, 19.9, 19. , 19.1, 19.1, 20.1, 19.9, 19.6, 23.2,\n",
       "        29.8, 13.8, 13.3, 16.7, 12. , 14.6, 21.4, 23. , 23.7, 25. , 21.8,\n",
       "        20.6, 21.2, 19.1, 20.6, 15.2,  7. ,  8.1, 13.6, 20.1, 21.8, 24.5,\n",
       "        23.1, 19.7, 18.3, 21.2, 17.5, 16.8, 22.4, 20.6, 23.9, 22. , 11.9]),\n",
       " 'feature_names': array(['CRIM', 'ZN', 'INDUS', 'CHAS', 'NOX', 'RM', 'AGE', 'DIS', 'RAD',\n",
       "        'TAX', 'PTRATIO', 'B', 'LSTAT'], dtype='<U7'),\n",
       " 'DESCR': \".. _boston_dataset:\\n\\nBoston house prices dataset\\n---------------------------\\n\\n**Data Set Characteristics:**  \\n\\n    :Number of Instances: 506 \\n\\n    :Number of Attributes: 13 numeric/categorical predictive. Median Value (attribute 14) is usually the target.\\n\\n    :Attribute Information (in order):\\n        - CRIM     per capita crime rate by town\\n        - ZN       proportion of residential land zoned for lots over 25,000 sq.ft.\\n        - INDUS    proportion of non-retail business acres per town\\n        - CHAS     Charles River dummy variable (= 1 if tract bounds river; 0 otherwise)\\n        - NOX      nitric oxides concentration (parts per 10 million)\\n        - RM       average number of rooms per dwelling\\n        - AGE      proportion of owner-occupied units built prior to 1940\\n        - DIS      weighted distances to five Boston employment centres\\n        - RAD      index of accessibility to radial highways\\n        - TAX      full-value property-tax rate per $10,000\\n        - PTRATIO  pupil-teacher ratio by town\\n        - B        1000(Bk - 0.63)^2 where Bk is the proportion of blacks by town\\n        - LSTAT    % lower status of the population\\n        - MEDV     Median value of owner-occupied homes in $1000's\\n\\n    :Missing Attribute Values: None\\n\\n    :Creator: Harrison, D. and Rubinfeld, D.L.\\n\\nThis is a copy of UCI ML housing dataset.\\nhttps://archive.ics.uci.edu/ml/machine-learning-databases/housing/\\n\\n\\nThis dataset was taken from the StatLib library which is maintained at Carnegie Mellon University.\\n\\nThe Boston house-price data of Harrison, D. and Rubinfeld, D.L. 'Hedonic\\nprices and the demand for clean air', J. Environ. Economics & Management,\\nvol.5, 81-102, 1978.   Used in Belsley, Kuh & Welsch, 'Regression diagnostics\\n...', Wiley, 1980.   N.B. Various transformations are used in the table on\\npages 244-261 of the latter.\\n\\nThe Boston house-price data has been used in many machine learning papers that address regression\\nproblems.   \\n     \\n.. topic:: References\\n\\n   - Belsley, Kuh & Welsch, 'Regression diagnostics: Identifying Influential Data and Sources of Collinearity', Wiley, 1980. 244-261.\\n   - Quinlan,R. (1993). Combining Instance-Based and Model-Based Learning. In Proceedings on the Tenth International Conference of Machine Learning, 236-243, University of Massachusetts, Amherst. Morgan Kaufmann.\\n\",\n",
       " 'filename': 'C:\\\\Users\\\\zhuhaijun\\\\Anaconda3\\\\lib\\\\site-packages\\\\sklearn\\\\datasets\\\\data\\\\boston_house_prices.csv'}"
      ]
     },
     "execution_count": 20,
     "metadata": {},
     "output_type": "execute_result"
    }
   ],
   "source": [
    "data"
   ]
  },
  {
   "cell_type": "code",
   "execution_count": 21,
   "metadata": {},
   "outputs": [],
   "source": [
    "X, y = data['data'], data['target']"
   ]
  },
  {
   "cell_type": "code",
   "execution_count": 22,
   "metadata": {},
   "outputs": [
    {
     "data": {
      "text/plain": [
       "array([[6.3200e-03, 1.8000e+01, 2.3100e+00, ..., 1.5300e+01, 3.9690e+02,\n",
       "        4.9800e+00],\n",
       "       [2.7310e-02, 0.0000e+00, 7.0700e+00, ..., 1.7800e+01, 3.9690e+02,\n",
       "        9.1400e+00],\n",
       "       [2.7290e-02, 0.0000e+00, 7.0700e+00, ..., 1.7800e+01, 3.9283e+02,\n",
       "        4.0300e+00],\n",
       "       ...,\n",
       "       [6.0760e-02, 0.0000e+00, 1.1930e+01, ..., 2.1000e+01, 3.9690e+02,\n",
       "        5.6400e+00],\n",
       "       [1.0959e-01, 0.0000e+00, 1.1930e+01, ..., 2.1000e+01, 3.9345e+02,\n",
       "        6.4800e+00],\n",
       "       [4.7410e-02, 0.0000e+00, 1.1930e+01, ..., 2.1000e+01, 3.9690e+02,\n",
       "        7.8800e+00]])"
      ]
     },
     "execution_count": 22,
     "metadata": {},
     "output_type": "execute_result"
    }
   ],
   "source": [
    "X"
   ]
  },
  {
   "cell_type": "code",
   "execution_count": 23,
   "metadata": {},
   "outputs": [
    {
     "data": {
      "text/plain": [
       "array([2.7310e-02, 0.0000e+00, 7.0700e+00, 0.0000e+00, 4.6900e-01,\n",
       "       6.4210e+00, 7.8900e+01, 4.9671e+00, 2.0000e+00, 2.4200e+02,\n",
       "       1.7800e+01, 3.9690e+02, 9.1400e+00])"
      ]
     },
     "execution_count": 23,
     "metadata": {},
     "output_type": "execute_result"
    }
   ],
   "source": [
    "X[1]"
   ]
  },
  {
   "cell_type": "code",
   "execution_count": 24,
   "metadata": {},
   "outputs": [
    {
     "data": {
      "text/plain": [
       "21.6"
      ]
     },
     "execution_count": 24,
     "metadata": {},
     "output_type": "execute_result"
    }
   ],
   "source": [
    "y[1]"
   ]
  },
  {
   "cell_type": "code",
   "execution_count": 25,
   "metadata": {},
   "outputs": [
    {
     "data": {
      "text/plain": [
       "array(['CRIM', 'ZN', 'INDUS', 'CHAS', 'NOX', 'RM', 'AGE', 'DIS', 'RAD',\n",
       "       'TAX', 'PTRATIO', 'B', 'LSTAT'], dtype='<U7')"
      ]
     },
     "execution_count": 25,
     "metadata": {},
     "output_type": "execute_result"
    }
   ],
   "source": [
    "data['feature_names']"
   ]
  },
  {
   "cell_type": "code",
   "execution_count": 26,
   "metadata": {},
   "outputs": [
    {
     "data": {
      "text/plain": [
       "\".. _boston_dataset:\\n\\nBoston house prices dataset\\n---------------------------\\n\\n**Data Set Characteristics:**  \\n\\n    :Number of Instances: 506 \\n\\n    :Number of Attributes: 13 numeric/categorical predictive. Median Value (attribute 14) is usually the target.\\n\\n    :Attribute Information (in order):\\n        - CRIM     per capita crime rate by town\\n        - ZN       proportion of residential land zoned for lots over 25,000 sq.ft.\\n        - INDUS    proportion of non-retail business acres per town\\n        - CHAS     Charles River dummy variable (= 1 if tract bounds river; 0 otherwise)\\n        - NOX      nitric oxides concentration (parts per 10 million)\\n        - RM       average number of rooms per dwelling\\n        - AGE      proportion of owner-occupied units built prior to 1940\\n        - DIS      weighted distances to five Boston employment centres\\n        - RAD      index of accessibility to radial highways\\n        - TAX      full-value property-tax rate per $10,000\\n        - PTRATIO  pupil-teacher ratio by town\\n        - B        1000(Bk - 0.63)^2 where Bk is the proportion of blacks by town\\n        - LSTAT    % lower status of the population\\n        - MEDV     Median value of owner-occupied homes in $1000's\\n\\n    :Missing Attribute Values: None\\n\\n    :Creator: Harrison, D. and Rubinfeld, D.L.\\n\\nThis is a copy of UCI ML housing dataset.\\nhttps://archive.ics.uci.edu/ml/machine-learning-databases/housing/\\n\\n\\nThis dataset was taken from the StatLib library which is maintained at Carnegie Mellon University.\\n\\nThe Boston house-price data of Harrison, D. and Rubinfeld, D.L. 'Hedonic\\nprices and the demand for clean air', J. Environ. Economics & Management,\\nvol.5, 81-102, 1978.   Used in Belsley, Kuh & Welsch, 'Regression diagnostics\\n...', Wiley, 1980.   N.B. Various transformations are used in the table on\\npages 244-261 of the latter.\\n\\nThe Boston house-price data has been used in many machine learning papers that address regression\\nproblems.   \\n     \\n.. topic:: References\\n\\n   - Belsley, Kuh & Welsch, 'Regression diagnostics: Identifying Influential Data and Sources of Collinearity', Wiley, 1980. 244-261.\\n   - Quinlan,R. (1993). Combining Instance-Based and Model-Based Learning. In Proceedings on the Tenth International Conference of Machine Learning, 236-243, University of Massachusetts, Amherst. Morgan Kaufmann.\\n\""
      ]
     },
     "execution_count": 26,
     "metadata": {},
     "output_type": "execute_result"
    }
   ],
   "source": [
    "data['DESCR']"
   ]
  },
  {
   "cell_type": "code",
   "execution_count": 27,
   "metadata": {},
   "outputs": [],
   "source": [
    "import random"
   ]
  },
  {
   "cell_type": "code",
   "execution_count": 28,
   "metadata": {},
   "outputs": [],
   "source": [
    "def draw_rm_and_price():\n",
    "    plt.tick_params(colors='white')\n",
    "    plt.scatter(X[:, 5], y)"
   ]
  },
  {
   "cell_type": "code",
   "execution_count": 29,
   "metadata": {},
   "outputs": [
    {
     "data": {
      "image/png": "[encoded data removed]",
      "text/plain": [
       "<Figure size 432x288 with 1 Axes>"
      ]
     },
     "metadata": {
      "needs_background": "dark"
     },
     "output_type": "display_data"
    }
   ],
   "source": [
    "draw_rm_and_price()"
   ]
  },
  {
   "cell_type": "code",
   "execution_count": 30,
   "metadata": {},
   "outputs": [],
   "source": [
    "def price(rm, k, b):\n",
    "    return k * rm + b"
   ]
  },
  {
   "cell_type": "code",
   "execution_count": 31,
   "metadata": {},
   "outputs": [
    {
     "data": {
      "text/plain": [
       "<matplotlib.collections.PathCollection at 0xc40bcc0>"
      ]
     },
     "execution_count": 31,
     "metadata": {},
     "output_type": "execute_result"
    },
    {
     "data": {
      "image/png": "[encoded data removed]",
      "text/plain": [
       "<Figure size 432x288 with 1 Axes>"
      ]
     },
     "metadata": {
      "needs_background": "dark"
     },
     "output_type": "display_data"
    }
   ],
   "source": [
    "X_rm = X[:, 5]\n",
    "k = random.randint(-100, 100)\n",
    "b = random.randint(-100, 100)\n",
    "price_by_random_k_and_b = [price(r, k, b) for r in X_rm]\n",
    "draw_rm_and_price()\n",
    "plt.scatter(X_rm, price_by_random_k_and_b)"
   ]
  },
  {
   "cell_type": "markdown",
   "metadata": {},
   "source": [
    "### 1.4 不同的Loss"
   ]
  },
  {
   "cell_type": "code",
   "execution_count": 32,
   "metadata": {},
   "outputs": [],
   "source": [
    "def loss(y, y_hat):\n",
    "    # 误差绝对值之和\n",
    "    return sum(abs(y_i - y_hat_i) for y_i, y_hat_i in zip(list(y), list(y_hat))) / len(list(y))\n",
    "    # 误差平方差之和\n",
    "#     return sum((y_i - y_hat_i) ** 2 for y_i, y_hat_i in zip(list(y), list(y_hat))) / len(list(y))"
   ]
  },
  {
   "cell_type": "code",
   "execution_count": 33,
   "metadata": {},
   "outputs": [],
   "source": [
    "X_rm = X[:, 5]"
   ]
  },
  {
   "cell_type": "markdown",
   "metadata": {},
   "source": [
    "### 1.1 Random Choose Method to get optimal k and b"
   ]
  },
  {
   "cell_type": "code",
   "execution_count": 34,
   "metadata": {},
   "outputs": [
    {
     "name": "stdout",
     "output_type": "stream",
     "text": [
      "When time is: 0, get best_k: -78.73490659563012, best_b: -77.22489854218388, and the loss is: 594.577806342122.\n",
      "When time is: 1, get best_k: -72.82019739658963, best_b: 35.20287495712438, and the loss is: 444.97824801933814.\n",
      "When time is: 2, get best_k: -42.289694833602894, best_b: 46.46545473256188, and the loss is: 241.8426219734223.\n",
      "When time is: 3, get best_k: -16.454073414040636, best_b: -63.75812861864092, and the loss is: 189.69877053264207.\n",
      "When time is: 6, get best_k: 13.100061091804236, best_b: -13.757594415280579, and the loss is: 46.03869367457076.\n",
      "When time is: 66, get best_k: 0.9234913660977924, best_b: 31.178111254860596, and the loss is: 15.584209851356832.\n",
      "When time is: 95, get best_k: 17.195191507386596, best_b: -94.2926993182688, and the loss is: 9.966746370467106.\n",
      "When time is: 190, get best_k: 9.937741925434423, best_b: -48.424058292586494, and the loss is: 9.238770787990829.\n",
      "When time is: 349, get best_k: 16.388429048822587, best_b: -86.39150571256802, and the loss is: 7.846509334185038.\n",
      "When time is: 398, get best_k: 12.32769995044707, best_b: -52.28365237843804, and the loss is: 5.132840278960125.\n",
      "When time is: 922, get best_k: 9.933877165216145, best_b: -40.84998445460173, and the loss is: 4.578940063635421.\n",
      "When time is: 1968, get best_k: 7.709044718756687, best_b: -25.716636027877925, and the loss is: 4.5700520551225585.\n",
      "When time is: 4549, get best_k: 10.18008260754118, best_b: -41.065400949739875, and the loss is: 4.442769155972384.\n"
     ]
    }
   ],
   "source": [
    "# Random Choose Method to get optimal k and b\n",
    "\n",
    "trying_times = 10000\n",
    "min_loss = float('inf')\n",
    "best_k, best_b = None, None\n",
    "for i in range(trying_times):\n",
    "    k = random.random() * 200 -100\n",
    "    b = random.random() * 200 -100\n",
    "    price_by_random_k_and_b = [price(r, k, b) for r in X_rm]\n",
    "    \n",
    "    current_loss = loss(y, price_by_random_k_and_b)\n",
    "    if current_loss < min_loss:\n",
    "        min_loss = current_loss\n",
    "        best_k, best_b = k, b\n",
    "        print('When time is: {}, get best_k: {}, best_b: {}, and the loss is: {}.'.format(i, best_k, best_b, current_loss))"
   ]
  },
  {
   "cell_type": "markdown",
   "metadata": {},
   "source": [
    "### 1.2 Supervised Direction to get optimal k and b"
   ]
  },
  {
   "cell_type": "code",
   "execution_count": 35,
   "metadata": {},
   "outputs": [
    {
     "name": "stdout",
     "output_type": "stream",
     "text": [
      "When time is: 0, get best_k: -11.471168462343835, best_b: -35.58568737582198, and the loss is: 130.2105934814841.\n",
      "When time is: 1, get best_k: -11.371168462343835, best_b: -35.48568737582198, and the loss is: 129.48213004274868.\n",
      "When time is: 2, get best_k: -11.271168462343836, best_b: -35.38568737582198, and the loss is: 128.7536666040137.\n",
      "When time is: 3, get best_k: -11.171168462343836, best_b: -35.28568737582198, and the loss is: 128.02520316527836.\n",
      "When time is: 4, get best_k: -11.071168462343836, best_b: -35.18568737582198, and the loss is: 127.29673972654317.\n",
      "When time is: 5, get best_k: -10.971168462343837, best_b: -35.085687375821976, and the loss is: 126.56827628780805.\n",
      "When time is: 6, get best_k: -10.871168462343837, best_b: -34.985687375821975, and the loss is: 125.83981284907283.\n",
      "When time is: 7, get best_k: -10.771168462343837, best_b: -34.88568737582197, and the loss is: 125.1113494103377.\n",
      "When time is: 8, get best_k: -10.671168462343838, best_b: -34.78568737582197, and the loss is: 124.38288597160255.\n",
      "When time is: 9, get best_k: -10.571168462343838, best_b: -34.68568737582197, and the loss is: 123.65442253286723.\n",
      "When time is: 10, get best_k: -10.471168462343838, best_b: -34.58568737582197, and the loss is: 122.92595909413214.\n",
      "When time is: 11, get best_k: -10.371168462343839, best_b: -34.48568737582197, and the loss is: 122.19749565539699.\n",
      "When time is: 12, get best_k: -10.271168462343839, best_b: -34.385687375821966, and the loss is: 121.46903221666182.\n",
      "When time is: 13, get best_k: -10.17116846234384, best_b: -34.285687375821965, and the loss is: 120.7405687779266.\n",
      "When time is: 14, get best_k: -10.07116846234384, best_b: -34.18568737582196, and the loss is: 120.01210533919146.\n",
      "When time is: 15, get best_k: -9.97116846234384, best_b: -34.08568737582196, and the loss is: 119.28364190045632.\n",
      "When time is: 16, get best_k: -9.87116846234384, best_b: -33.98568737582196, and the loss is: 118.55517846172111.\n",
      "When time is: 17, get best_k: -9.77116846234384, best_b: -33.88568737582196, and the loss is: 117.82671502298588.\n",
      "When time is: 18, get best_k: -9.671168462343841, best_b: -33.78568737582196, and the loss is: 117.09825158425075.\n",
      "When time is: 19, get best_k: -9.571168462343842, best_b: -33.685687375821956, and the loss is: 116.3697881455156.\n",
      "When time is: 20, get best_k: -9.471168462343842, best_b: -33.585687375821955, and the loss is: 115.64132470678032.\n",
      "When time is: 21, get best_k: -9.371168462343842, best_b: -33.48568737582195, and the loss is: 114.91286126804526.\n",
      "When time is: 22, get best_k: -9.271168462343843, best_b: -33.38568737582195, and the loss is: 114.18439782930994.\n",
      "When time is: 23, get best_k: -9.171168462343843, best_b: -33.28568737582195, and the loss is: 113.45593439057485.\n",
      "When time is: 24, get best_k: -9.071168462343843, best_b: -33.18568737582195, and the loss is: 112.72747095183973.\n",
      "When time is: 25, get best_k: -8.971168462343844, best_b: -33.08568737582195, and the loss is: 111.99900751310454.\n",
      "When time is: 26, get best_k: -8.871168462343844, best_b: -32.985687375821946, and the loss is: 111.27054407436927.\n",
      "When time is: 27, get best_k: -8.771168462343844, best_b: -32.885687375821945, and the loss is: 110.54208063563412.\n",
      "When time is: 28, get best_k: -8.671168462343845, best_b: -32.785687375821944, and the loss is: 109.81361719689896.\n",
      "When time is: 29, get best_k: -8.571168462343845, best_b: -32.68568737582194, and the loss is: 109.08515375816377.\n",
      "When time is: 30, get best_k: -8.471168462343845, best_b: -32.58568737582194, and the loss is: 108.3566903194286.\n",
      "When time is: 31, get best_k: -8.371168462343846, best_b: -32.48568737582194, and the loss is: 107.62822688069346.\n",
      "When time is: 32, get best_k: -8.271168462343846, best_b: -32.38568737582194, and the loss is: 106.89976344195824.\n",
      "When time is: 33, get best_k: -8.171168462343847, best_b: -32.28568737582194, and the loss is: 106.1713000032231.\n",
      "When time is: 34, get best_k: -8.071168462343847, best_b: -32.185687375821935, and the loss is: 105.44283656448793.\n",
      "When time is: 35, get best_k: -7.971168462343847, best_b: -32.085687375821934, and the loss is: 104.71437312575283.\n",
      "When time is: 36, get best_k: -7.871168462343848, best_b: -31.985687375821932, and the loss is: 103.98590968701748.\n",
      "When time is: 37, get best_k: -7.771168462343848, best_b: -31.88568737582193, and the loss is: 103.25744624828232.\n",
      "When time is: 38, get best_k: -7.671168462343848, best_b: -31.78568737582193, and the loss is: 102.52898280954719.\n",
      "When time is: 39, get best_k: -7.571168462343849, best_b: -31.685687375821928, and the loss is: 101.80051937081205.\n",
      "When time is: 40, get best_k: -7.471168462343849, best_b: -31.585687375821927, and the loss is: 101.07205593207682.\n",
      "When time is: 41, get best_k: -7.371168462343849, best_b: -31.485687375821925, and the loss is: 100.34359249334156.\n",
      "When time is: 42, get best_k: -7.27116846234385, best_b: -31.385687375821924, and the loss is: 99.61512905460643.\n",
      "When time is: 43, get best_k: -7.17116846234385, best_b: -31.285687375821922, and the loss is: 98.88666561587131.\n",
      "When time is: 44, get best_k: -7.07116846234385, best_b: -31.18568737582192, and the loss is: 98.15820217713612.\n",
      "When time is: 45, get best_k: -6.971168462343851, best_b: -31.08568737582192, and the loss is: 97.42973873840096.\n",
      "When time is: 46, get best_k: -6.871168462343851, best_b: -30.985687375821918, and the loss is: 96.70127529966582.\n",
      "When time is: 47, get best_k: -6.7711684623438515, best_b: -30.885687375821917, and the loss is: 95.97281186093048.\n",
      "When time is: 48, get best_k: -6.671168462343852, best_b: -30.785687375821915, and the loss is: 95.24434842219559.\n",
      "When time is: 49, get best_k: -6.571168462343852, best_b: -30.685687375821914, and the loss is: 94.51588498346018.\n",
      "When time is: 50, get best_k: -6.471168462343853, best_b: -30.585687375821912, and the loss is: 93.78742154472509.\n",
      "When time is: 51, get best_k: -6.371168462343853, best_b: -30.48568737582191, and the loss is: 93.0589581059899.\n",
      "When time is: 52, get best_k: -6.271168462343853, best_b: -30.38568737582191, and the loss is: 92.33049466725474.\n",
      "When time is: 53, get best_k: -6.171168462343854, best_b: -30.285687375821908, and the loss is: 91.6020312285196.\n",
      "When time is: 54, get best_k: -6.071168462343854, best_b: -30.185687375821907, and the loss is: 90.87356778978435.\n",
      "When time is: 55, get best_k: -5.971168462343854, best_b: -30.085687375821905, and the loss is: 90.1451043510492.\n",
      "When time is: 56, get best_k: -5.871168462343855, best_b: -29.985687375821904, and the loss is: 89.416640912314.\n",
      "When time is: 57, get best_k: -5.771168462343855, best_b: -29.885687375821902, and the loss is: 88.68817747357883.\n",
      "When time is: 58, get best_k: -5.671168462343855, best_b: -29.7856873758219, and the loss is: 87.9597140348436.\n",
      "When time is: 59, get best_k: -5.571168462343856, best_b: -29.6856873758219, and the loss is: 87.23125059610855.\n",
      "When time is: 60, get best_k: -5.471168462343856, best_b: -29.585687375821898, and the loss is: 86.50278715737325.\n",
      "When time is: 61, get best_k: -5.3711684623438565, best_b: -29.485687375821897, and the loss is: 85.77432371863816.\n",
      "When time is: 62, get best_k: -5.271168462343857, best_b: -29.385687375821895, and the loss is: 85.04586027990298.\n",
      "When time is: 63, get best_k: -5.171168462343857, best_b: -29.285687375821894, and the loss is: 84.31739684116774.\n",
      "When time is: 64, get best_k: -5.0711684623438575, best_b: -29.185687375821892, and the loss is: 83.58893340243263.\n",
      "When time is: 65, get best_k: -4.971168462343858, best_b: -29.08568737582189, and the loss is: 82.86046996369735.\n",
      "When time is: 66, get best_k: -4.871168462343858, best_b: -28.98568737582189, and the loss is: 82.13200652496225.\n",
      "When time is: 67, get best_k: -4.771168462343859, best_b: -28.885687375821888, and the loss is: 81.40354308622709.\n",
      "When time is: 68, get best_k: -4.671168462343859, best_b: -28.785687375821887, and the loss is: 80.67507964749188.\n",
      "When time is: 69, get best_k: -4.571168462343859, best_b: -28.685687375821885, and the loss is: 79.94661620875661.\n",
      "When time is: 70, get best_k: -4.47116846234386, best_b: -28.585687375821884, and the loss is: 79.21815277002165.\n",
      "When time is: 71, get best_k: -4.37116846234386, best_b: -28.485687375821882, and the loss is: 78.48968933128643.\n",
      "When time is: 72, get best_k: -4.27116846234386, best_b: -28.38568737582188, and the loss is: 77.76122589255122.\n",
      "When time is: 73, get best_k: -4.171168462343861, best_b: -28.28568737582188, and the loss is: 77.03276245381593.\n",
      "When time is: 74, get best_k: -4.071168462343861, best_b: -28.185687375821878, and the loss is: 76.30429901508089.\n",
      "When time is: 75, get best_k: -3.971168462343861, best_b: -28.085687375821877, and the loss is: 75.57583557634567.\n",
      "When time is: 76, get best_k: -3.871168462343861, best_b: -27.985687375821875, and the loss is: 74.84737213761053.\n",
      "When time is: 77, get best_k: -3.771168462343861, best_b: -27.885687375821874, and the loss is: 74.11890869887527.\n",
      "When time is: 78, get best_k: -3.6711684623438607, best_b: -27.785687375821873, and the loss is: 73.39044526014007.\n",
      "When time is: 79, get best_k: -3.5711684623438607, best_b: -27.68568737582187, and the loss is: 72.66198182140495.\n",
      "When time is: 80, get best_k: -3.4711684623438606, best_b: -27.58568737582187, and the loss is: 71.93351838266976.\n",
      "When time is: 81, get best_k: -3.3711684623438605, best_b: -27.48568737582187, and the loss is: 71.2050549439346.\n",
      "When time is: 82, get best_k: -3.2711684623438604, best_b: -27.385687375821867, and the loss is: 70.47659150519928.\n",
      "When time is: 83, get best_k: -3.1711684623438603, best_b: -27.285687375821865, and the loss is: 69.7481280664642.\n",
      "When time is: 84, get best_k: -3.07116846234386, best_b: -27.185687375821864, and the loss is: 69.01966462772901.\n",
      "When time is: 85, get best_k: -2.97116846234386, best_b: -27.085687375821863, and the loss is: 68.29120118899394.\n",
      "When time is: 86, get best_k: -2.87116846234386, best_b: -26.98568737582186, and the loss is: 67.56273775025865.\n",
      "When time is: 87, get best_k: -2.77116846234386, best_b: -26.88568737582186, and the loss is: 66.83427431152356.\n",
      "When time is: 88, get best_k: -2.67116846234386, best_b: -26.78568737582186, and the loss is: 66.10581087278828.\n",
      "When time is: 89, get best_k: -2.5711684623438598, best_b: -26.685687375821857, and the loss is: 65.37734743405315.\n",
      "When time is: 90, get best_k: -2.4711684623438597, best_b: -26.585687375821855, and the loss is: 64.64888399531797.\n",
      "When time is: 91, get best_k: -2.3711684623438596, best_b: -26.485687375821854, and the loss is: 63.920420556582776.\n",
      "When time is: 92, get best_k: -2.2711684623438595, best_b: -26.385687375821853, and the loss is: 63.191957117847636.\n",
      "When time is: 93, get best_k: -2.1711684623438594, best_b: -26.28568737582185, and the loss is: 62.46349367911244.\n",
      "When time is: 94, get best_k: -2.0711684623438593, best_b: -26.18568737582185, and the loss is: 61.73503024037731.\n",
      "When time is: 95, get best_k: -1.9711684623438592, best_b: -26.08568737582185, and the loss is: 61.00656680164206.\n",
      "When time is: 96, get best_k: -1.8711684623438591, best_b: -25.985687375821847, and the loss is: 60.278103362906926.\n",
      "When time is: 97, get best_k: -1.771168462343859, best_b: -25.885687375821846, and the loss is: 59.54963992417174.\n",
      "When time is: 98, get best_k: -1.671168462343859, best_b: -25.785687375821844, and the loss is: 58.82117648543652.\n",
      "When time is: 99, get best_k: -1.5711684623438589, best_b: -25.685687375821843, and the loss is: 58.09271304670134.\n",
      "When time is: 100, get best_k: -1.4711684623438588, best_b: -25.58568737582184, and the loss is: 57.364249607966144.\n",
      "When time is: 101, get best_k: -1.3711684623438587, best_b: -25.48568737582184, and the loss is: 56.63578616923105.\n",
      "When time is: 102, get best_k: -1.2711684623438586, best_b: -25.38568737582184, and the loss is: 55.907322730495835.\n",
      "When time is: 103, get best_k: -1.1711684623438585, best_b: -25.285687375821837, and the loss is: 55.178859291760716.\n",
      "When time is: 104, get best_k: -1.0711684623438584, best_b: -25.185687375821836, and the loss is: 54.450395853025384.\n",
      "When time is: 105, get best_k: -0.9711684623438585, best_b: -25.085687375821834, and the loss is: 53.72193241429029.\n",
      "When time is: 106, get best_k: -0.8711684623438585, best_b: -24.985687375821833, and the loss is: 52.99346897555517.\n",
      "When time is: 107, get best_k: -0.7711684623438585, best_b: -24.88568737582183, and the loss is: 52.26500553681995.\n",
      "When time is: 108, get best_k: -0.6711684623438585, best_b: -24.78568737582183, and the loss is: 51.53654209808471.\n",
      "When time is: 109, get best_k: -0.5711684623438585, best_b: -24.68568737582183, and the loss is: 50.80807865934963.\n",
      "When time is: 110, get best_k: -0.47116846234385856, best_b: -24.585687375821827, and the loss is: 50.07961522061442.\n",
      "When time is: 111, get best_k: -0.3711684623438586, best_b: -24.485687375821826, and the loss is: 49.35115178187922.\n",
      "When time is: 112, get best_k: -0.2711684623438586, best_b: -24.385687375821824, and the loss is: 48.62268834314406.\n",
      "When time is: 113, get best_k: -0.1711684623438586, best_b: -24.285687375821823, and the loss is: 47.89422490440883.\n",
      "When time is: 114, get best_k: -0.0711684623438586, best_b: -24.18568737582182, and the loss is: 47.16576146567365.\n",
      "When time is: 115, get best_k: 0.02883153765614141, best_b: -24.08568737582182, and the loss is: 46.4372980269385.\n",
      "When time is: 116, get best_k: 0.12883153765614141, best_b: -23.98568737582182, and the loss is: 45.70883458820332.\n",
      "When time is: 117, get best_k: 0.22883153765614142, best_b: -23.885687375821817, and the loss is: 44.98037114946814.\n",
      "When time is: 118, get best_k: 0.3288315376561414, best_b: -23.785687375821816, and the loss is: 44.25190771073298.\n",
      "When time is: 119, get best_k: 0.42883153765614146, best_b: -23.685687375821814, and the loss is: 43.52344427199774.\n",
      "When time is: 120, get best_k: 0.5288315376561414, best_b: -23.585687375821813, and the loss is: 42.79498083326259.\n",
      "When time is: 121, get best_k: 0.6288315376561414, best_b: -23.48568737582181, and the loss is: 42.06651739452747.\n",
      "When time is: 122, get best_k: 0.7288315376561414, best_b: -23.38568737582181, and the loss is: 41.33805395579222.\n",
      "When time is: 123, get best_k: 0.8288315376561414, best_b: -23.28568737582181, and the loss is: 40.60959051705702.\n",
      "When time is: 124, get best_k: 0.9288315376561413, best_b: -23.185687375821807, and the loss is: 39.8811270783219.\n",
      "When time is: 125, get best_k: 1.0288315376561414, best_b: -23.085687375821806, and the loss is: 39.152663639586706.\n",
      "When time is: 126, get best_k: 1.1288315376561415, best_b: -22.985687375821804, and the loss is: 38.424200200851445.\n",
      "When time is: 127, get best_k: 1.2288315376561416, best_b: -22.885687375821803, and the loss is: 37.69573676211631.\n",
      "When time is: 128, get best_k: 1.3288315376561417, best_b: -22.7856873758218, and the loss is: 36.967273323381164.\n",
      "When time is: 129, get best_k: 1.4288315376561418, best_b: -22.6856873758218, and the loss is: 36.238809884645974.\n",
      "When time is: 130, get best_k: 1.5288315376561419, best_b: -22.5856873758218, and the loss is: 35.51034644591079.\n",
      "When time is: 131, get best_k: 1.628831537656142, best_b: -22.485687375821797, and the loss is: 34.7818830071756.\n",
      "When time is: 132, get best_k: 1.728831537656142, best_b: -22.385687375821796, and the loss is: 34.05341956844043.\n",
      "When time is: 133, get best_k: 1.8288315376561421, best_b: -22.285687375821794, and the loss is: 33.32495612970526.\n",
      "When time is: 134, get best_k: 1.9288315376561422, best_b: -22.185687375821793, and the loss is: 32.596492690970116.\n",
      "When time is: 135, get best_k: 2.028831537656142, best_b: -22.08568737582179, and the loss is: 31.868029252234894.\n",
      "When time is: 136, get best_k: 2.128831537656142, best_b: -21.98568737582179, and the loss is: 31.13956581349974.\n",
      "When time is: 137, get best_k: 2.2288315376561423, best_b: -21.88568737582179, and the loss is: 30.41110237476451.\n",
      "When time is: 138, get best_k: 2.3288315376561424, best_b: -21.785687375821787, and the loss is: 29.68263893602935.\n",
      "When time is: 139, get best_k: 2.4288315376561425, best_b: -21.685687375821786, and the loss is: 28.954175497294177.\n",
      "When time is: 140, get best_k: 2.5288315376561425, best_b: -21.585687375821784, and the loss is: 28.225712058558994.\n",
      "When time is: 141, get best_k: 2.6288315376561426, best_b: -21.485687375821783, and the loss is: 27.49724861982383.\n",
      "When time is: 142, get best_k: 2.7288315376561427, best_b: -21.38568737582178, and the loss is: 26.76878518108863.\n",
      "When time is: 143, get best_k: 2.828831537656143, best_b: -21.28568737582178, and the loss is: 26.04032174235344.\n",
      "When time is: 144, get best_k: 2.928831537656143, best_b: -21.18568737582178, and the loss is: 25.31185830361827.\n",
      "When time is: 145, get best_k: 3.028831537656143, best_b: -21.085687375821777, and the loss is: 24.58339486488306.\n",
      "When time is: 146, get best_k: 3.128831537656143, best_b: -20.985687375821776, and the loss is: 23.854931426147886.\n",
      "When time is: 147, get best_k: 3.228831537656143, best_b: -20.885687375821774, and the loss is: 23.126467987412735.\n",
      "When time is: 148, get best_k: 3.3288315376561433, best_b: -20.785687375821773, and the loss is: 22.39800454867754.\n",
      "When time is: 149, get best_k: 3.4288315376561433, best_b: -20.68568737582177, and the loss is: 21.669541109942372.\n",
      "When time is: 150, get best_k: 3.5288315376561434, best_b: -20.58568737582177, and the loss is: 20.9410776712072.\n",
      "When time is: 151, get best_k: 3.6288315376561435, best_b: -20.48568737582177, and the loss is: 20.21261423247202.\n",
      "When time is: 152, get best_k: 3.7288315376561436, best_b: -20.385687375821767, and the loss is: 19.484150793736827.\n",
      "When time is: 153, get best_k: 3.8288315376561437, best_b: -20.285687375821766, and the loss is: 18.75568735500167.\n",
      "When time is: 154, get best_k: 3.928831537656144, best_b: -20.185687375821765, and the loss is: 18.027223916266482.\n",
      "When time is: 155, get best_k: 4.028831537656144, best_b: -20.085687375821763, and the loss is: 17.298760477531292.\n",
      "When time is: 156, get best_k: 4.1288315376561435, best_b: -19.98568737582176, and the loss is: 16.572336754656035.\n",
      "When time is: 157, get best_k: 4.228831537656143, best_b: -19.88568737582176, and the loss is: 15.849694160879789.\n",
      "When time is: 158, get best_k: 4.328831537656143, best_b: -19.78568737582176, and the loss is: 15.13430233521835.\n",
      "When time is: 159, get best_k: 4.4288315376561425, best_b: -19.685687375821757, and the loss is: 14.42558108237741.\n",
      "When time is: 160, get best_k: 4.528831537656142, best_b: -19.585687375821756, and the loss is: 13.72084989253762.\n",
      "When time is: 161, get best_k: 4.628831537656142, best_b: -19.485687375821755, and the loss is: 13.024464880989251.\n",
      "When time is: 162, get best_k: 4.728831537656141, best_b: -19.385687375821753, and the loss is: 12.336719060405697.\n",
      "When time is: 163, get best_k: 4.828831537656141, best_b: -19.28568737582175, and the loss is: 11.66457073231842.\n",
      "When time is: 164, get best_k: 4.928831537656141, best_b: -19.18568737582175, and the loss is: 11.011289143659024.\n",
      "When time is: 165, get best_k: 5.02883153765614, best_b: -19.08568737582175, and the loss is: 10.378983807909732.\n",
      "When time is: 166, get best_k: 5.12883153765614, best_b: -18.985687375821747, and the loss is: 9.772464528418146.\n",
      "When time is: 167, get best_k: 5.22883153765614, best_b: -18.885687375821746, and the loss is: 9.181807933426168.\n",
      "When time is: 168, get best_k: 5.328831537656139, best_b: -18.785687375821745, and the loss is: 8.611068927141085.\n",
      "When time is: 169, get best_k: 5.428831537656139, best_b: -18.685687375821743, and the loss is: 8.074978542373772.\n",
      "When time is: 170, get best_k: 5.5288315376561386, best_b: -18.585687375821742, and the loss is: 7.569967196660046.\n",
      "When time is: 171, get best_k: 5.628831537656138, best_b: -18.48568737582174, and the loss is: 7.094774103954013.\n",
      "When time is: 172, get best_k: 5.728831537656138, best_b: -18.38568737582174, and the loss is: 6.636252135605017.\n",
      "When time is: 173, get best_k: 5.8288315376561375, best_b: -18.285687375821738, and the loss is: 6.203716510296082.\n",
      "When time is: 174, get best_k: 5.928831537656137, best_b: -18.185687375821736, and the loss is: 5.808623637999747.\n",
      "When time is: 175, get best_k: 6.028831537656137, best_b: -18.085687375821735, and the loss is: 5.452558507736923.\n",
      "When time is: 176, get best_k: 6.128831537656136, best_b: -17.985687375821733, and the loss is: 5.151166872350222.\n",
      "When time is: 177, get best_k: 6.228831537656136, best_b: -17.885687375821732, and the loss is: 4.925142671074354.\n",
      "When time is: 178, get best_k: 6.328831537656136, best_b: -17.78568737582173, and the loss is: 4.792008190101577.\n",
      "When time is: 179, get best_k: 6.428831537656135, best_b: -17.68568737582173, and the loss is: 4.774711714552472.\n"
     ]
    }
   ],
   "source": [
    "# Supervised Direction to get optimal k and b\n",
    "\n",
    "trying_times = 10000\n",
    "min_loss = float('inf')\n",
    "best_k = random.random() * 200 - 100\n",
    "best_b = random.random() * 200 - 100\n",
    "\n",
    "direction = [\n",
    "    (+1, -1),\n",
    "    (+1, +1),\n",
    "    (-1, -1),\n",
    "    (-1, +1),\n",
    "]\n",
    "\n",
    "next_direction = random.choice(direction)\n",
    "\n",
    "scalar = 0.1\n",
    "\n",
    "for i in range(trying_times):\n",
    "    k_direction, b_direction = next_direction\n",
    "    current_k, current_b = best_k + k_direction * scalar, best_b + b_direction * scalar\n",
    "    price_by_random_k_and_b = [price(r, current_k, current_b) for r in X_rm]\n",
    "    \n",
    "    current_loss = loss(y, price_by_random_k_and_b)\n",
    "    if current_loss < min_loss:\n",
    "        min_loss = current_loss\n",
    "        best_k, best_b = current_k, current_b\n",
    "        next_direction = next_direction\n",
    "        print('When time is: {}, get best_k: {}, best_b: {}, and the loss is: {}.'.format(i, best_k, best_b, current_loss))\n",
    "    else:\n",
    "        next_direction = random.choice(direction)"
   ]
  },
  {
   "cell_type": "code",
   "execution_count": 36,
   "metadata": {
    "scrolled": false
   },
   "outputs": [
    {
     "data": {
      "text/plain": [
       "<matplotlib.collections.PathCollection at 0xc4747f0>"
      ]
     },
     "execution_count": 36,
     "metadata": {},
     "output_type": "execute_result"
    },
    {
     "data": {
      "image/png": "[encoded data removed]",
      "text/plain": [
       "<Figure size 432x288 with 1 Axes>"
      ]
     },
     "metadata": {
      "needs_background": "dark"
     },
     "output_type": "display_data"
    }
   ],
   "source": [
    "X_rm = X[:, 5]\n",
    "k = 10\n",
    "b = -40\n",
    "price_by_random_k_and_b = [price(r, k, b) for r in X_rm]\n",
    "draw_rm_and_price()\n",
    "plt.scatter(X_rm, price_by_random_k_and_b)"
   ]
  },
  {
   "cell_type": "markdown",
   "metadata": {},
   "source": [
    "### 2. Answer following questions:"
   ]
  },
  {
   "cell_type": "markdown",
   "metadata": {},
   "source": [
    "#### 2.1 Why do we need machine learning methods instead of creating a complicated formula?\n",
    "Ans: 机器学习可以根据数据习得规则，更适应场景的变化，而复杂的逻辑在规则发生改变时需要人工修改逻辑。"
   ]
  },
  {
   "cell_type": "markdown",
   "metadata": {},
   "source": [
    "#### 2.2 Wha't's the disadvantages of the 1st Random Choosen methods in our course?\n",
    "Ans: 第一种随机选择的方法不稳定，需要大量的尝试次数。"
   ]
  },
  {
   "cell_type": "markdown",
   "metadata": {},
   "source": [
    "#### 2.3 Is the 2nd method supervised direction better than 1st one? What's the disadvantages of the 2nd supversied directin method?\n",
    "Ans: 从稳定性上来看，优于随机选择的方法，但是速度较慢。"
   ]
  },
  {
   "cell_type": "markdown",
   "metadata": {},
   "source": [
    "#### 2.4 Why do we use Derivative / Gredient to fit a target function?\n",
    "Ans: 使用导数或梯度可以每次都向着更优化的方向前进。"
   ]
  },
  {
   "cell_type": "markdown",
   "metadata": {},
   "source": [
    "#### 2.5 In the words 'Gredient Descent', what's the Gredient and what's the Descent?\n",
    "Ans: "
   ]
  },
  {
   "cell_type": "markdown",
   "metadata": {},
   "source": [
    "#### 2.6 What's the advantages of the 3rd gradient descent method compared to the previous methods?\n",
    "Ans: "
   ]
  },
  {
   "cell_type": "markdown",
   "metadata": {},
   "source": [
    "#### 2.7 Using the simple words to describe: What's the machine leanring.\n",
    "Ans: 机器学习根据已有的数据，生成一个函数，再用这个函数做数据的分析"
   ]
  },
  {
   "cell_type": "markdown",
   "metadata": {},
   "source": []
  },
  {
   "cell_type": "markdown",
   "metadata": {},
   "source": [
    "#### 获取站点坐标及站点间连接关系图"
   ]
  },
  {
   "cell_type": "code",
   "execution_count": 37,
   "metadata": {},
   "outputs": [
    {
     "name": "stderr",
     "output_type": "stream",
     "text": [
      "C:\\Users\\zhuhaijun\\Anaconda3\\lib\\site-packages\\urllib3\\connectionpool.py:847: InsecureRequestWarning: Unverified HTTPS request is being made. Adding certificate verification is strongly advised. See: https://urllib3.readthedocs.io/en/latest/advanced-usage.html#ssl-warnings\n",
      "  InsecureRequestWarning)\n"
     ]
    }
   ],
   "source": [
    "url = 'https://map.bjsubway.com/subwaymap/beijing.xml'\n",
    "response = requests.get(url, verify=False)\n",
    "response.encoding = 'utf-8'\n",
    "soup = BeautifulSoup(response.text, 'lxml')\n",
    "\n",
    "# get map info of station and location\n",
    "station_location = defaultdict(list)\n",
    "\n",
    "for line in soup.find_all('p'):\n",
    "    if line.get('lb') != '':\n",
    "        station_location[line.get('lb')] = [line.get('x'), line.get('y')]\n",
    "\n",
    "# get map info of connection of the stations\n",
    "station_connection = defaultdict(list)\n",
    "\n",
    "for line in soup.find_all('l'):\n",
    "    stations = []\n",
    "    for station_pre in line.find_all('p'):\n",
    "        if station_pre.get('lb') != '':\n",
    "            stations.append(station_pre.get('lb'))\n",
    "    for station in stations:\n",
    "        idx = stations.index(station)\n",
    "        num = len(stations)\n",
    "        if 0 == idx:\n",
    "            station_connection[station] += [stations[idx+1]]\n",
    "        elif (num-1) == idx:\n",
    "            station_connection[station] += [stations[idx-1]]\n",
    "        else:\n",
    "            station_connection[station] += [stations[idx+1]] + [stations[idx-1]]"
   ]
  },
  {
   "cell_type": "code",
   "execution_count": 70,
   "metadata": {},
   "outputs": [],
   "source": [
    "def search(start, destination, connection_grpah):\n",
    "    pathes = [[start]]\n",
    "    \n",
    "    visitied = set()\n",
    "    \n",
    "    while pathes:\n",
    "        path = pathes.pop(0)\n",
    "        froninter = path[-1]\n",
    "        \n",
    "        if froninter in visitied: continue\n",
    "            \n",
    "        successors = connection_grpah[froninter]\n",
    "        \n",
    "        for station in successors:\n",
    "            if station in path: continue\n",
    "                \n",
    "            new_path = path + [station]\n",
    "            \n",
    "            pathes.append(new_path)\n",
    "            \n",
    "            if station == destination: return new_path\n",
    "        \n",
    "        visitied.add(froninter)"
   ]
  },
  {
   "cell_type": "markdown",
   "metadata": {},
   "source": [
    "#### 获取从A站到B站经过的站点，由于没有取得合适的坐标（上面获取的location不正确），所以没有画图"
   ]
  },
  {
   "cell_type": "code",
   "execution_count": 71,
   "metadata": {},
   "outputs": [
    {
     "data": {
      "text/plain": [
       "['五棵松',\n",
       " '万寿路',\n",
       " '公主坟',\n",
       " '军事博物馆',\n",
       " '白堆子',\n",
       " '白石桥南',\n",
       " '国家图书馆',\n",
       " '动物园',\n",
       " '西直门',\n",
       " '大钟寺',\n",
       " '知春路',\n",
       " '五道口',\n",
       " '上地',\n",
       " '西二旗',\n",
       " '龙泽',\n",
       " '回龙观',\n",
       " '霍营',\n",
       " '回龙观东大街']"
      ]
     },
     "execution_count": 71,
     "metadata": {},
     "output_type": "execute_result"
    }
   ],
   "source": [
    "search('五棵松', '回龙观东大街', station_connection)"
   ]
  },
  {
   "cell_type": "markdown",
   "metadata": {},
   "source": [
    "#### 获取站点间间距，路程最短优先代码待补充"
   ]
  },
  {
   "cell_type": "code",
   "execution_count": 73,
   "metadata": {},
   "outputs": [
    {
     "name": "stderr",
     "output_type": "stream",
     "text": [
      "C:\\Users\\zhuhaijun\\Anaconda3\\lib\\site-packages\\urllib3\\connectionpool.py:847: InsecureRequestWarning: Unverified HTTPS request is being made. Adding certificate verification is strongly advised. See: https://urllib3.readthedocs.io/en/latest/advanced-usage.html#ssl-warnings\n",
      "  InsecureRequestWarning)\n"
     ]
    }
   ],
   "source": [
    "url = 'https://www.bjsubway.com/station/zjgls/'\n",
    "response = requests.get(url, verify=False)\n",
    "response.encoding = 'gb2312'\n",
    "soup = BeautifulSoup(response.text, 'lxml')\n",
    "\n",
    "station_distance = defaultdict(list)\n",
    "\n",
    "for content in soup.select('tbody'):\n",
    "    for tr in content.select('tr'):\n",
    "        station_pattern = re.compile(r'\\[<th>(\\w+)――(\\w+)</th>]')\n",
    "        stations = station_pattern.findall(str(tr.select('th')))[0]\n",
    "        distance_pattern = re.compile(r'\\[<td.*>(\\d+)</td>')\n",
    "        distance = distance_pattern.findall(str(tr.select('td')))\n",
    "        station_distance[stations] = distance[0]"
   ]
  },
  {
   "cell_type": "code",
   "execution_count": 74,
   "metadata": {},
   "outputs": [
    {
     "data": {
      "text/plain": [
       "defaultdict(list,\n",
       "            {('苹果园', '古城'): '2606',\n",
       "             ('古城', '八角游乐园'): '1921',\n",
       "             ('八角游乐园', '八宝山'): '1953',\n",
       "             ('八宝山', '玉泉路'): '1479',\n",
       "             ('玉泉路', '五棵松'): '1810',\n",
       "             ('五棵松', '万寿路'): '1778',\n",
       "             ('万寿路', '公主坟'): '1313',\n",
       "             ('公主坟', '军事博物馆'): '1172',\n",
       "             ('军事博物馆', '木樨地'): '1166',\n",
       "             ('木樨地', '南礼士路'): '1291',\n",
       "             ('南礼士路', '复兴门'): '424',\n",
       "             ('复兴门', '西单'): '1590',\n",
       "             ('西单', '天安门西'): '1217',\n",
       "             ('天安门西', '天安门东'): '925',\n",
       "             ('天安门东', '王府井'): '852',\n",
       "             ('王府井', '东单'): '774',\n",
       "             ('东单', '建国门'): '1230',\n",
       "             ('建国门', '永安里'): '1377',\n",
       "             ('永安里', '国贸'): '790',\n",
       "             ('国贸', '大望路'): '1385',\n",
       "             ('大望路', '四惠'): '1673',\n",
       "             ('四惠', '四惠东'): '1715',\n",
       "             ('西直门', '车公庄'): '909',\n",
       "             ('车公庄', '阜成门'): '960',\n",
       "             ('阜成门', '复兴门'): '1832',\n",
       "             ('复兴门', '长椿街'): '1234',\n",
       "             ('长椿街', '宣武门'): '929',\n",
       "             ('宣武门', '和平门'): '851',\n",
       "             ('和平门', '前门'): '1171',\n",
       "             ('前门', '崇文门'): '1634',\n",
       "             ('崇文门', '北京站'): '1023',\n",
       "             ('北京站', '建国门'): '945',\n",
       "             ('建国门', '朝阳门'): '1763',\n",
       "             ('朝阳门', '东四十条'): '1027',\n",
       "             ('东四十条', '东直门'): '824',\n",
       "             ('东直门', '雍和宫'): '2228',\n",
       "             ('雍和宫', '安定门'): '794',\n",
       "             ('安定门', '鼓楼大街'): '1237',\n",
       "             ('鼓楼大街', '积水潭'): '1766',\n",
       "             ('积水潭', '西直门'): '1899',\n",
       "             ('安河桥北', '北宫门'): '1363',\n",
       "             ('北宫门', '西苑'): '1251',\n",
       "             ('西苑', '圆明园'): '1672',\n",
       "             ('圆明园', '北京大学东门'): '1295',\n",
       "             ('北京大学东门', '中关村'): '887',\n",
       "             ('中关村', '海淀黄庄'): '900',\n",
       "             ('海淀黄庄', '人民大学'): '1063',\n",
       "             ('人民大学', '魏公村'): '1051',\n",
       "             ('魏公村', '国家图书馆'): '1658',\n",
       "             ('国家图书馆', '动物园'): '1517',\n",
       "             ('动物园', '西直门'): '1441',\n",
       "             ('西直门', '新街口'): '1025',\n",
       "             ('新街口', '平安里'): '1100',\n",
       "             ('平安里', '西四'): '1100',\n",
       "             ('西四', '灵境胡同'): '869',\n",
       "             ('灵境胡同', '西单'): '1011',\n",
       "             ('西单', '宣武门'): '815',\n",
       "             ('宣武门', '菜市口'): '1152',\n",
       "             ('菜市口', '陶然亭'): '1200',\n",
       "             ('陶然亭', '北京南站'): '1643',\n",
       "             ('北京南站', '马家堡'): '1480',\n",
       "             ('马家堡', '角门西'): '827',\n",
       "             ('角门西', '公益西桥'): '989',\n",
       "             ('天通苑北', '天通苑'): '939',\n",
       "             ('天通苑', '天通苑南'): '965',\n",
       "             ('天通苑南', '立水桥'): '1544',\n",
       "             ('立水桥', '立水桥南'): '1305',\n",
       "             ('立水桥南', '北苑路北'): '1286',\n",
       "             ('北苑路北', '大屯路东'): '3000',\n",
       "             ('大屯路东', '惠新西街北口'): '1838',\n",
       "             ('惠新西街北口', '惠新西街南口'): '1122',\n",
       "             ('惠新西街南口', '和平西桥'): '1025',\n",
       "             ('和平西桥', '和平里北街'): '1059',\n",
       "             ('和平里北街', '雍和宫'): '1151',\n",
       "             ('雍和宫', '北新桥'): '866',\n",
       "             ('北新桥', '张自忠路'): '791',\n",
       "             ('张自忠路', '东四'): '1016',\n",
       "             ('东四', '灯市口'): '848',\n",
       "             ('灯市口', '东单'): '945',\n",
       "             ('东单', '崇文门'): '821',\n",
       "             ('崇文门', '磁器口'): '876',\n",
       "             ('磁器口', '天坛东门'): '1183',\n",
       "             ('天坛东门', '蒲黄榆'): '1900',\n",
       "             ('蒲黄榆', '刘家窑'): '905',\n",
       "             ('刘家窑', '宋家庄'): '1670',\n",
       "             ('海淀五路居', '慈寿寺'): '1508',\n",
       "             ('慈寿寺', '花园桥'): '1431',\n",
       "             ('花园桥', '白石桥南'): '1166',\n",
       "             ('白石桥南', '车公庄西'): '1664',\n",
       "             ('车公庄西', '车公庄'): '887',\n",
       "             ('车公庄', '平安里'): '1443',\n",
       "             ('平安里', '北海北'): '1321',\n",
       "             ('北海北', '南锣鼓巷'): '1349',\n",
       "             ('南锣鼓巷', '东四'): '1937',\n",
       "             ('东四', '朝阳门'): '1399',\n",
       "             ('朝阳门', '东大桥'): '1668',\n",
       "             ('东大桥', '呼家楼'): '845',\n",
       "             ('呼家楼', '金台路'): '1450',\n",
       "             ('金台路', '十里堡'): '2036',\n",
       "             ('十里堡', '青年路'): '1282',\n",
       "             ('青年路', '褡裢坡'): '3999',\n",
       "             ('褡裢坡', '黄渠'): '1238',\n",
       "             ('黄渠', '常营'): '1854',\n",
       "             ('常营', '草房'): '1405',\n",
       "             ('草房', '物资学院路'): '2115',\n",
       "             ('物资学院路', '通州北关'): '2557',\n",
       "             ('通州北关', '通运门'): '1468',\n",
       "             ('通运门', '北运河西'): '1543',\n",
       "             ('北运河西', '北运河东'): '1599',\n",
       "             ('北运河东', '郝家府'): '929',\n",
       "             ('郝家府', '东夏园'): '1346',\n",
       "             ('东夏园', '潞城'): '1194',\n",
       "             ('北京西站', '湾子'): '935',\n",
       "             ('湾子', '达官营'): '734',\n",
       "             ('达官营', '广安门内'): '1874',\n",
       "             ('广安门内', '菜市口'): '1374',\n",
       "             ('菜市口', '虎坊桥'): '885',\n",
       "             ('虎坊桥', '珠市口'): '1205',\n",
       "             ('珠市口', '桥湾'): '869',\n",
       "             ('桥湾', '磁器口'): '1016',\n",
       "             ('磁器口', '广渠门内'): '1138',\n",
       "             ('广渠门内', '广渠门外'): '1332',\n",
       "             ('广渠门外', '双井'): '1241',\n",
       "             ('双井', '九龙山'): '1311',\n",
       "             ('九龙山', '大郊亭'): '781',\n",
       "             ('大郊亭', '百子湾'): '865',\n",
       "             ('百子湾', '化工'): '903',\n",
       "             ('化工', '南楼梓庄'): '1464',\n",
       "             ('南楼梓庄', '欢乐谷景区'): '906',\n",
       "             ('欢乐谷景区', '垡头'): '1679',\n",
       "             ('垡头', '双合'): '1304',\n",
       "             ('双合', '焦化厂'): '1021',\n",
       "             ('朱辛庄', '育知路'): '2318',\n",
       "             ('育知路', '平西府'): '1985',\n",
       "             ('平西府', '回龙观东大街'): '2056',\n",
       "             ('回龙观东大街', '霍营'): '1114',\n",
       "             ('霍营', '育新'): '1894',\n",
       "             ('育新', '西小口'): '1543',\n",
       "             ('西小口', '永泰庄'): '1041',\n",
       "             ('永泰庄', '林萃桥'): '2553',\n",
       "             ('林萃桥', '森林公园南门'): '2555',\n",
       "             ('森林公园南门', '奥林匹克公园'): '1016',\n",
       "             ('奥林匹克公园', '奥体中心'): '1667',\n",
       "             ('奥体中心', '北土城'): '900',\n",
       "             ('北土城', '安华桥'): '1018',\n",
       "             ('安华桥', '安德里北街'): '1274',\n",
       "             ('安德里北街', '鼓楼大街'): '1083',\n",
       "             ('鼓楼大街', '什刹海'): '1188',\n",
       "             ('什刹海', '南锣鼓巷'): '902',\n",
       "             ('国家图书馆', '白石桥南'): '1096',\n",
       "             ('白石桥南', '白堆子'): '943',\n",
       "             ('白堆子', '军事博物馆'): '1912',\n",
       "             ('军事博物馆', '北京西站'): '1398',\n",
       "             ('北京西站', '六里桥东'): '1170',\n",
       "             ('六里桥东', '六里桥'): '1309',\n",
       "             ('六里桥', '七里庄'): '1778',\n",
       "             ('七里庄', '丰台东大街'): '1325',\n",
       "             ('丰台东大街', '丰台南路'): '1585',\n",
       "             ('丰台南路', '科怡路'): '980',\n",
       "             ('科怡路', '丰台科技园'): '788',\n",
       "             ('丰台科技园', '郭公庄'): '1347',\n",
       "             ('巴沟', '苏州街'): '1110',\n",
       "             ('苏州街', '海淀黄庄'): '950',\n",
       "             ('海淀黄庄', '知春里'): '975',\n",
       "             ('知春里', '知春路'): '1058',\n",
       "             ('知春路', '西土城'): '1101',\n",
       "             ('西土城', '牡丹园'): '1330',\n",
       "             ('牡丹园', '健德门'): '973',\n",
       "             ('健德门', '北土城'): '1100',\n",
       "             ('北土城', '安贞门'): '1020',\n",
       "             ('安贞门', '惠新西街南口'): '982',\n",
       "             ('惠新西街南口', '芍药居'): '1712',\n",
       "             ('芍药居', '太阳宫'): '1003',\n",
       "             ('太阳宫', '三元桥'): '1759',\n",
       "             ('三元桥', '亮马桥'): '1506',\n",
       "             ('亮马桥', '农业展览馆'): '914',\n",
       "             ('农业展览馆', '团结湖'): '853',\n",
       "             ('团结湖', '呼家楼'): '1149',\n",
       "             ('呼家楼', '金台夕照'): '734',\n",
       "             ('金台夕照', '国贸'): '835',\n",
       "             ('国贸', '双井'): '1759',\n",
       "             ('双井', '劲松'): '1006',\n",
       "             ('劲松', '潘家园'): '1021',\n",
       "             ('潘家园', '十里河'): '1097',\n",
       "             ('十里河', '分钟寺'): '1804',\n",
       "             ('分钟寺', '成寿寺'): '1058',\n",
       "             ('成寿寺', '宋家庄'): '1677',\n",
       "             ('宋家庄', '石榴庄'): '1269',\n",
       "             ('石榴庄', '大红门'): '1244',\n",
       "             ('大红门', '角门东'): '1130',\n",
       "             ('角门东', '角门西'): '1254',\n",
       "             ('角门西', '草桥'): '1688',\n",
       "             ('草桥', '纪家庙'): '1547',\n",
       "             ('纪家庙', '首经贸'): '1143',\n",
       "             ('首经贸', '丰台站'): '1717',\n",
       "             ('丰台站', '泥洼'): '954',\n",
       "             ('泥洼', '西局'): '749',\n",
       "             ('西局', '六里桥'): '1584',\n",
       "             ('六里桥', '莲花桥'): '2392',\n",
       "             ('莲花桥', '公主坟'): '1016',\n",
       "             ('公主坟', '西钓鱼台'): '2386',\n",
       "             ('西钓鱼台', '慈寿寺'): '1214',\n",
       "             ('慈寿寺', '车道沟'): '1590',\n",
       "             ('车道沟', '长春桥'): '1205',\n",
       "             ('长春桥', '火器营'): '961',\n",
       "             ('火器营', '巴沟'): '1495',\n",
       "             ('西直门', '大钟寺'): '2839',\n",
       "             ('大钟寺', '知春路'): '1206',\n",
       "             ('知春路', '五道口'): '1829',\n",
       "             ('五道口', '上地'): '4866',\n",
       "             ('上地', '西二旗'): '2538',\n",
       "             ('西二旗', '龙泽'): '3623',\n",
       "             ('龙泽', '回龙观'): '1423',\n",
       "             ('回龙观', '霍营'): '2110',\n",
       "             ('霍营', '立水桥'): '4785',\n",
       "             ('立水桥', '北苑'): '2272',\n",
       "             ('北苑', '望京西'): '6720',\n",
       "             ('望京西', '芍药居'): '2152',\n",
       "             ('芍药居', '光熙门'): '1110',\n",
       "             ('光熙门', '柳芳'): '1135',\n",
       "             ('柳芳', '东直门'): '1769',\n",
       "             ('张郭庄', '园博园'): '1345',\n",
       "             ('园博园', '大瓦窑'): '4073',\n",
       "             ('大瓦窑', '郭庄子'): '1236',\n",
       "             ('郭庄子', '大井'): '2044',\n",
       "             ('大井', '七里庄'): '1579',\n",
       "             ('七里庄', '西局'): '845',\n",
       "             ('北京南站', '陶然桥'): '887',\n",
       "             ('陶然桥', '永定门外'): '1063',\n",
       "             ('永定门外', '景泰'): '1119',\n",
       "             ('景泰', '蒲黄榆'): '1025',\n",
       "             ('蒲黄榆', '方庄'): '1486',\n",
       "             ('方庄', '十里河'): '1618',\n",
       "             ('十里河', '南八里庄'): '1147',\n",
       "             ('南八里庄', '北工大西门'): '1276',\n",
       "             ('北工大西门', '平乐园'): '1128',\n",
       "             ('平乐园', '九龙山'): '897',\n",
       "             ('九龙山', '大望路'): '1780',\n",
       "             ('大望路', '红庙'): '708',\n",
       "             ('红庙', '金台路'): '894',\n",
       "             ('金台路', '朝阳公园'): '1085',\n",
       "             ('朝阳公园', '枣营'): '1221',\n",
       "             ('枣营', '东风北桥'): '2173',\n",
       "             ('东风北桥', '将台'): '1600',\n",
       "             ('将台', '高家园'): '1171',\n",
       "             ('高家园', '望京南'): '676',\n",
       "             ('望京南', '阜通'): '1168',\n",
       "             ('阜通', '望京'): '903',\n",
       "             ('望京', '东湖渠'): '1283',\n",
       "             ('东湖渠', '来广营'): '1100',\n",
       "             ('来广营', '善各庄'): '1364',\n",
       "             ('清华东路西口', '六道口'): '1144',\n",
       "             ('六道口', '北沙滩'): '1337',\n",
       "             ('北沙滩', '奥林匹克公园'): '1999',\n",
       "             ('奥林匹克公园', '安立路'): '1368',\n",
       "             ('安立路', '大屯路东'): '938',\n",
       "             ('大屯路东', '关庄'): '1087',\n",
       "             ('关庄', '望京西'): '2071',\n",
       "             ('望京西', '望京'): '1758',\n",
       "             ('望京', '望京东'): '1652',\n",
       "             ('望京东', '崔各庄'): '2295',\n",
       "             ('崔各庄', '马泉营'): '2008',\n",
       "             ('马泉营', '孙河'): '3309',\n",
       "             ('孙河', '国展'): '3386',\n",
       "             ('国展', '花梨坎'): '1615',\n",
       "             ('花梨坎', '后沙峪'): '3354',\n",
       "             ('后沙峪', '南法信'): '4576',\n",
       "             ('南法信', '石门'): '2712',\n",
       "             ('石门', '顺义'): '1331',\n",
       "             ('顺义', '俸伯'): '2441',\n",
       "             ('四惠东', '高碑店'): '1375',\n",
       "             ('高碑店', '传媒大学'): '2002',\n",
       "             ('传媒大学', '双桥'): '1894',\n",
       "             ('双桥', '管庄'): '1912',\n",
       "             ('管庄', '八里桥'): '1763',\n",
       "             ('八里桥', '通州北苑'): '1700',\n",
       "             ('通州北苑', '果园'): '1465',\n",
       "             ('果园', '九棵树'): '990',\n",
       "             ('九棵树', '梨园'): '1225',\n",
       "             ('梨园', '临河里'): '1257',\n",
       "             ('临河里', '土桥'): '776',\n",
       "             ('昌平西山口', '十三陵景区'): '1213',\n",
       "             ('十三陵景区', '昌平'): '3508',\n",
       "             ('昌平', '昌平东关'): '2433',\n",
       "             ('昌平东关', '北邵洼'): '1683',\n",
       "             ('北邵洼', '南邵'): '1958',\n",
       "             ('南邵', '沙河高教园'): '5357',\n",
       "             ('沙河高教园', '沙河'): '1964',\n",
       "             ('沙河', '巩华城'): '2025',\n",
       "             ('巩华城', '朱辛庄'): '3799',\n",
       "             ('朱辛庄', '生命科学园'): '2367',\n",
       "             ('生命科学园', '西二旗'): '5440',\n",
       "             ('宋家庄', '肖村'): '2631',\n",
       "             ('肖村', '小红门'): '1275',\n",
       "             ('小红门', '旧宫'): '2366',\n",
       "             ('旧宫', '亦庄桥'): '1982',\n",
       "             ('亦庄桥', '亦庄文化园'): '993',\n",
       "             ('亦庄文化园', '万源街'): '1728',\n",
       "             ('万源街', '荣京东街'): '1090',\n",
       "             ('荣京东街', '荣昌东街'): '1355',\n",
       "             ('荣昌东街', '同济南路'): '2337',\n",
       "             ('同济南路', '经海路'): '2301',\n",
       "             ('经海路', '次渠南'): '2055',\n",
       "             ('次渠南', '次渠'): '1281',\n",
       "             ('公益西桥', '新宫'): '2798',\n",
       "             ('新宫', '西红门'): '5102',\n",
       "             ('西红门', '高米店北'): '1810',\n",
       "             ('高米店北', '高米店南'): '1128',\n",
       "             ('高米店南', '枣园'): '1096',\n",
       "             ('枣园', '清源路'): '1200',\n",
       "             ('清源路', '黄村西大街'): '1214',\n",
       "             ('黄村西大街', '黄村火车站'): '987',\n",
       "             ('黄村火车站', '义和庄'): '2035',\n",
       "             ('义和庄', '生物医药基地'): '2918',\n",
       "             ('生物医药基地', '天宫院'): '1811',\n",
       "             ('郭公庄', '大葆台'): '1405',\n",
       "             ('大葆台', '稻田'): '6466',\n",
       "             ('稻田', '长阳'): '4041',\n",
       "             ('长阳', '篱笆房'): '2150',\n",
       "             ('篱笆房', '广阳城'): '1474',\n",
       "             ('广阳城', '良乡大学城北'): '2003',\n",
       "             ('良乡大学城北', '良乡大学城'): '1188',\n",
       "             ('良乡大学城', '良乡大学城西'): '1738',\n",
       "             ('良乡大学城西', '良乡南关'): '1332',\n",
       "             ('良乡南关', '苏庄'): '1330',\n",
       "             ('东直门', '三元桥'): '2999',\n",
       "             ('三元桥', 'T3航站楼'): '18329',\n",
       "             ('T3航站楼', 'T2航站楼'): '7239',\n",
       "             ('T2航站楼', '三元桥'): '20619'})"
      ]
     },
     "execution_count": 74,
     "metadata": {},
     "output_type": "execute_result"
    }
   ],
   "source": [
    "station_distance"
   ]
  }
 ],
 "metadata": {
  "kernelspec": {
   "display_name": "Python 3",
   "language": "python",
   "name": "python3"
  },
  "language_info": {
   "codemirror_mode": {
    "name": "ipython",
    "version": 3
   },
   "file_extension": ".py",
   "mimetype": "text/x-python",
   "name": "python",
   "nbconvert_exporter": "python",
   "pygments_lexer": "ipython3",
   "version": "3.7.3"
  }
 },
 "nbformat": 4,
 "nbformat_minor": 2
}
